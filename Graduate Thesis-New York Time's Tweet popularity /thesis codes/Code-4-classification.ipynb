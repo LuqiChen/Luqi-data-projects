{
 "cells": [
  {
   "cell_type": "code",
   "execution_count": 1,
   "metadata": {},
   "outputs": [
    {
     "name": "stderr",
     "output_type": "stream",
     "text": [
      "/Users/chenluqi/anaconda3/envs/ml1/lib/python3.7/site-packages/sklearn/feature_extraction/text.py:17: DeprecationWarning: Using or importing the ABCs from 'collections' instead of from 'collections.abc' is deprecated, and in 3.8 it will stop working\n",
      "  from collections import Mapping, defaultdict\n"
     ]
    }
   ],
   "source": [
    "import numpy as np\n",
    "import pandas as pd\n",
    "import matplotlib.pyplot as plt\n",
    "import preprocessor as p\n",
    "import seaborn as sns"
   ]
  },
  {
   "cell_type": "code",
   "execution_count": 185,
   "metadata": {},
   "outputs": [],
   "source": [
    "import pandas as pd\n",
    "import numpy as np\n",
    "from sklearn.feature_extraction.text import TfidfVectorizer\n",
    "from sklearn.linear_model.logistic import LogisticRegression\n",
    "from sklearn.model_selection import train_test_split, cross_val_score\n",
    "import statsmodels.api as sm\n",
    "import matplotlib\n",
    "import matplotlib.pyplot as plt\n",
    "from sklearn.model_selection import cross_val_score\n",
    "from sklearn.model_selection import GridSearchCV\n",
    "from sklearn.model_selection import KFold\n",
    "from sklearn.model_selection import cross_val_predict, StratifiedKFold\n",
    "from imblearn.over_sampling import SMOTE\n",
    "from sklearn import preprocessing\n",
    "from sklearn.feature_selection import RFE\n",
    "from sklearn.metrics import accuracy_score, precision_score, recall_score, f1_score"
   ]
  },
  {
   "cell_type": "code",
   "execution_count": 186,
   "metadata": {},
   "outputs": [
    {
     "data": {
      "text/html": [
       "<div>\n",
       "<style scoped>\n",
       "    .dataframe tbody tr th:only-of-type {\n",
       "        vertical-align: middle;\n",
       "    }\n",
       "\n",
       "    .dataframe tbody tr th {\n",
       "        vertical-align: top;\n",
       "    }\n",
       "\n",
       "    .dataframe thead th {\n",
       "        text-align: right;\n",
       "    }\n",
       "</style>\n",
       "<table border=\"1\" class=\"dataframe\">\n",
       "  <thead>\n",
       "    <tr style=\"text-align: right;\">\n",
       "      <th></th>\n",
       "      <th>is_popular</th>\n",
       "      <th>length</th>\n",
       "      <th>hashtag</th>\n",
       "      <th>mention</th>\n",
       "      <th>president</th>\n",
       "      <th>sentiment</th>\n",
       "      <th>subjectivity</th>\n",
       "      <th>readability</th>\n",
       "    </tr>\n",
       "  </thead>\n",
       "  <tbody>\n",
       "    <tr>\n",
       "      <td>0</td>\n",
       "      <td>0</td>\n",
       "      <td>105.0</td>\n",
       "      <td>0.0</td>\n",
       "      <td>0.0</td>\n",
       "      <td>0.0</td>\n",
       "      <td>-0.233333</td>\n",
       "      <td>0.755556</td>\n",
       "      <td>5.1</td>\n",
       "    </tr>\n",
       "    <tr>\n",
       "      <td>1</td>\n",
       "      <td>0</td>\n",
       "      <td>115.0</td>\n",
       "      <td>0.0</td>\n",
       "      <td>0.0</td>\n",
       "      <td>0.0</td>\n",
       "      <td>0.216667</td>\n",
       "      <td>0.358333</td>\n",
       "      <td>11.8</td>\n",
       "    </tr>\n",
       "    <tr>\n",
       "      <td>2</td>\n",
       "      <td>0</td>\n",
       "      <td>180.0</td>\n",
       "      <td>0.0</td>\n",
       "      <td>0.0</td>\n",
       "      <td>0.0</td>\n",
       "      <td>-0.050000</td>\n",
       "      <td>0.600000</td>\n",
       "      <td>17.3</td>\n",
       "    </tr>\n",
       "    <tr>\n",
       "      <td>3</td>\n",
       "      <td>1</td>\n",
       "      <td>154.0</td>\n",
       "      <td>0.0</td>\n",
       "      <td>0.0</td>\n",
       "      <td>1.0</td>\n",
       "      <td>-0.100000</td>\n",
       "      <td>0.650000</td>\n",
       "      <td>12.2</td>\n",
       "    </tr>\n",
       "    <tr>\n",
       "      <td>4</td>\n",
       "      <td>1</td>\n",
       "      <td>277.0</td>\n",
       "      <td>0.0</td>\n",
       "      <td>0.0</td>\n",
       "      <td>0.0</td>\n",
       "      <td>0.166667</td>\n",
       "      <td>0.333333</td>\n",
       "      <td>12.4</td>\n",
       "    </tr>\n",
       "  </tbody>\n",
       "</table>\n",
       "</div>"
      ],
      "text/plain": [
       "   is_popular  length  hashtag  mention  president  sentiment  subjectivity  \\\n",
       "0           0   105.0      0.0      0.0        0.0  -0.233333      0.755556   \n",
       "1           0   115.0      0.0      0.0        0.0   0.216667      0.358333   \n",
       "2           0   180.0      0.0      0.0        0.0  -0.050000      0.600000   \n",
       "3           1   154.0      0.0      0.0        1.0  -0.100000      0.650000   \n",
       "4           1   277.0      0.0      0.0        0.0   0.166667      0.333333   \n",
       "\n",
       "   readability  \n",
       "0          5.1  \n",
       "1         11.8  \n",
       "2         17.3  \n",
       "3         12.2  \n",
       "4         12.4  "
      ]
     },
     "execution_count": 186,
     "metadata": {},
     "output_type": "execute_result"
    }
   ],
   "source": [
    "ldata = pd.read_csv(\"smalldata.csv\")\n",
    "ldata = ldata.iloc[:, 1:] #delete first column\n",
    "ldata_rc2  = ldata.drop(['created_at','retweet_count','favorite_count','text','clean_text','favorite>200'], axis=1)\n",
    "ldata_rc2.head()"
   ]
  },
  {
   "cell_type": "code",
   "execution_count": 187,
   "metadata": {},
   "outputs": [
    {
     "data": {
      "text/html": [
       "<div>\n",
       "<style scoped>\n",
       "    .dataframe tbody tr th:only-of-type {\n",
       "        vertical-align: middle;\n",
       "    }\n",
       "\n",
       "    .dataframe tbody tr th {\n",
       "        vertical-align: top;\n",
       "    }\n",
       "\n",
       "    .dataframe thead th {\n",
       "        text-align: right;\n",
       "    }\n",
       "</style>\n",
       "<table border=\"1\" class=\"dataframe\">\n",
       "  <thead>\n",
       "    <tr style=\"text-align: right;\">\n",
       "      <th></th>\n",
       "      <th>length</th>\n",
       "      <th>hashtag</th>\n",
       "      <th>mention</th>\n",
       "      <th>president</th>\n",
       "      <th>sentiment</th>\n",
       "      <th>subjectivity</th>\n",
       "      <th>readability</th>\n",
       "      <th>aaron</th>\n",
       "      <th>abaco</th>\n",
       "      <th>abandon</th>\n",
       "      <th>...</th>\n",
       "      <th>zhang</th>\n",
       "      <th>zimbabw</th>\n",
       "      <th>zimdancehal</th>\n",
       "      <th>zine</th>\n",
       "      <th>zoltan</th>\n",
       "      <th>zombi</th>\n",
       "      <th>zone</th>\n",
       "      <th>zoo</th>\n",
       "      <th>zuckerberg</th>\n",
       "      <th>retweet&gt;100</th>\n",
       "    </tr>\n",
       "  </thead>\n",
       "  <tbody>\n",
       "    <tr>\n",
       "      <td>0</td>\n",
       "      <td>105.0</td>\n",
       "      <td>0.0</td>\n",
       "      <td>0.0</td>\n",
       "      <td>0.0</td>\n",
       "      <td>-0.233333</td>\n",
       "      <td>0.755556</td>\n",
       "      <td>5.1</td>\n",
       "      <td>0.0</td>\n",
       "      <td>0.0</td>\n",
       "      <td>0.0</td>\n",
       "      <td>...</td>\n",
       "      <td>0.0</td>\n",
       "      <td>0.0</td>\n",
       "      <td>0.0</td>\n",
       "      <td>0.0</td>\n",
       "      <td>0.0</td>\n",
       "      <td>0.0</td>\n",
       "      <td>0.0</td>\n",
       "      <td>0.0</td>\n",
       "      <td>0.0</td>\n",
       "      <td>0</td>\n",
       "    </tr>\n",
       "    <tr>\n",
       "      <td>1</td>\n",
       "      <td>115.0</td>\n",
       "      <td>0.0</td>\n",
       "      <td>0.0</td>\n",
       "      <td>0.0</td>\n",
       "      <td>0.216667</td>\n",
       "      <td>0.358333</td>\n",
       "      <td>11.8</td>\n",
       "      <td>0.0</td>\n",
       "      <td>0.0</td>\n",
       "      <td>0.0</td>\n",
       "      <td>...</td>\n",
       "      <td>0.0</td>\n",
       "      <td>0.0</td>\n",
       "      <td>0.0</td>\n",
       "      <td>0.0</td>\n",
       "      <td>0.0</td>\n",
       "      <td>0.0</td>\n",
       "      <td>0.0</td>\n",
       "      <td>0.0</td>\n",
       "      <td>0.0</td>\n",
       "      <td>0</td>\n",
       "    </tr>\n",
       "    <tr>\n",
       "      <td>2</td>\n",
       "      <td>180.0</td>\n",
       "      <td>0.0</td>\n",
       "      <td>0.0</td>\n",
       "      <td>0.0</td>\n",
       "      <td>-0.050000</td>\n",
       "      <td>0.600000</td>\n",
       "      <td>17.3</td>\n",
       "      <td>0.0</td>\n",
       "      <td>0.0</td>\n",
       "      <td>0.0</td>\n",
       "      <td>...</td>\n",
       "      <td>0.0</td>\n",
       "      <td>0.0</td>\n",
       "      <td>0.0</td>\n",
       "      <td>0.0</td>\n",
       "      <td>0.0</td>\n",
       "      <td>0.0</td>\n",
       "      <td>0.0</td>\n",
       "      <td>0.0</td>\n",
       "      <td>0.0</td>\n",
       "      <td>0</td>\n",
       "    </tr>\n",
       "    <tr>\n",
       "      <td>3</td>\n",
       "      <td>154.0</td>\n",
       "      <td>0.0</td>\n",
       "      <td>0.0</td>\n",
       "      <td>1.0</td>\n",
       "      <td>-0.100000</td>\n",
       "      <td>0.650000</td>\n",
       "      <td>12.2</td>\n",
       "      <td>0.0</td>\n",
       "      <td>0.0</td>\n",
       "      <td>0.0</td>\n",
       "      <td>...</td>\n",
       "      <td>0.0</td>\n",
       "      <td>0.0</td>\n",
       "      <td>0.0</td>\n",
       "      <td>0.0</td>\n",
       "      <td>0.0</td>\n",
       "      <td>0.0</td>\n",
       "      <td>0.0</td>\n",
       "      <td>0.0</td>\n",
       "      <td>0.0</td>\n",
       "      <td>1</td>\n",
       "    </tr>\n",
       "    <tr>\n",
       "      <td>4</td>\n",
       "      <td>277.0</td>\n",
       "      <td>0.0</td>\n",
       "      <td>0.0</td>\n",
       "      <td>0.0</td>\n",
       "      <td>0.166667</td>\n",
       "      <td>0.333333</td>\n",
       "      <td>12.4</td>\n",
       "      <td>0.0</td>\n",
       "      <td>0.0</td>\n",
       "      <td>0.0</td>\n",
       "      <td>...</td>\n",
       "      <td>0.0</td>\n",
       "      <td>0.0</td>\n",
       "      <td>0.0</td>\n",
       "      <td>0.0</td>\n",
       "      <td>0.0</td>\n",
       "      <td>0.0</td>\n",
       "      <td>0.0</td>\n",
       "      <td>0.0</td>\n",
       "      <td>0.0</td>\n",
       "      <td>1</td>\n",
       "    </tr>\n",
       "  </tbody>\n",
       "</table>\n",
       "<p>5 rows × 6824 columns</p>\n",
       "</div>"
      ],
      "text/plain": [
       "   length  hashtag  mention  president  sentiment  subjectivity  readability  \\\n",
       "0   105.0      0.0      0.0        0.0  -0.233333      0.755556          5.1   \n",
       "1   115.0      0.0      0.0        0.0   0.216667      0.358333         11.8   \n",
       "2   180.0      0.0      0.0        0.0  -0.050000      0.600000         17.3   \n",
       "3   154.0      0.0      0.0        1.0  -0.100000      0.650000         12.2   \n",
       "4   277.0      0.0      0.0        0.0   0.166667      0.333333         12.4   \n",
       "\n",
       "   aaron  abaco  abandon  ...  zhang  zimbabw  zimdancehal  zine  zoltan  \\\n",
       "0    0.0    0.0      0.0  ...    0.0      0.0          0.0   0.0     0.0   \n",
       "1    0.0    0.0      0.0  ...    0.0      0.0          0.0   0.0     0.0   \n",
       "2    0.0    0.0      0.0  ...    0.0      0.0          0.0   0.0     0.0   \n",
       "3    0.0    0.0      0.0  ...    0.0      0.0          0.0   0.0     0.0   \n",
       "4    0.0    0.0      0.0  ...    0.0      0.0          0.0   0.0     0.0   \n",
       "\n",
       "   zombi  zone  zoo  zuckerberg  retweet>100  \n",
       "0    0.0   0.0  0.0         0.0            0  \n",
       "1    0.0   0.0  0.0         0.0            0  \n",
       "2    0.0   0.0  0.0         0.0            0  \n",
       "3    0.0   0.0  0.0         0.0            1  \n",
       "4    0.0   0.0  0.0         0.0            1  \n",
       "\n",
       "[5 rows x 6824 columns]"
      ]
     },
     "execution_count": 187,
     "metadata": {},
     "output_type": "execute_result"
    }
   ],
   "source": [
    "data_withTFIDF = pd.read_csv(\"bigdata.csv\")\n",
    "data_withTFIDF = data_withTFIDF.iloc[:, 1:] #delete first column\n",
    "cdata_rct=data_withTFIDF.drop(['created_at', 'favorite_count','text','retweet_count','clean_text','words','favorite>200'], axis=1)\n",
    "cdata_rct.head()"
   ]
  },
  {
   "cell_type": "code",
   "execution_count": 188,
   "metadata": {},
   "outputs": [],
   "source": [
    "# retweet: Logistic regression (calculated features + SMOTE + cross validation)\n",
    "\n",
    "y = ldata_rc2['is_popular'] \n",
    "X = ldata_rc2.loc[:, ldata_rc2.columns != 'is_popular']\n",
    "X_train, X_test, y_train, y_test = train_test_split(X, y, random_state=42) "
   ]
  },
  {
   "cell_type": "code",
   "execution_count": 189,
   "metadata": {},
   "outputs": [],
   "source": [
    "sm = SMOTE(random_state=42)\n",
    "X_train_res, y_train_res = sm.fit_sample(X_train, y_train)\n",
    "logreg2 = LogisticRegression(C=1e90).fit(X_train_res, y_train_res)"
   ]
  },
  {
   "cell_type": "code",
   "execution_count": 190,
   "metadata": {},
   "outputs": [],
   "source": [
    "coef = pd.Series(logreg2.coef_[0], index = X_train.columns)\n",
    "imp_coef1 = pd.concat([coef.sort_values().head(5),\n",
    "                     coef.sort_values().tail(2)])"
   ]
  },
  {
   "cell_type": "code",
   "execution_count": 191,
   "metadata": {},
   "outputs": [
    {
     "data": {
      "text/plain": [
       "pandas.core.series.Series"
      ]
     },
     "execution_count": 191,
     "metadata": {},
     "output_type": "execute_result"
    }
   ],
   "source": [
    "type(imp_coef1)"
   ]
  },
  {
   "cell_type": "code",
   "execution_count": 192,
   "metadata": {},
   "outputs": [],
   "source": [
    "# retweet: Logistic regression (all features + RFE + SMOTE + cross validation)\n",
    "y = cdata_rct[\"retweet>100\"]\n",
    "X = cdata_rct.loc[:, cdata_rct.columns != 'retweet>100']\n",
    "X_train, X_test, y_train, y_test = train_test_split(X, y, random_state=42) "
   ]
  },
  {
   "cell_type": "code",
   "execution_count": 193,
   "metadata": {},
   "outputs": [
    {
     "data": {
      "text/plain": [
       "(1650, 1000)"
      ]
     },
     "execution_count": 193,
     "metadata": {},
     "output_type": "execute_result"
    }
   ],
   "source": [
    "logreg = LogisticRegression(C=1e90).fit(X_train, y_train)\n",
    "select = RFE(logreg,1000, step=100) # step tells RFE how many features to remove each time model features are evaluated\n",
    "selector = select.fit(X_train, y_train) # fit RFE estimator.\n",
    "Xnew = selector.transform(X_train) #reduces X to subset identified above\n",
    "Xnew.shape"
   ]
  },
  {
   "cell_type": "code",
   "execution_count": 194,
   "metadata": {},
   "outputs": [],
   "source": [
    "logregnew = LogisticRegression(C=1e90).fit(Xnew, y_train)"
   ]
  },
  {
   "cell_type": "code",
   "execution_count": 195,
   "metadata": {},
   "outputs": [],
   "source": [
    "coef = pd.Series(logregnew.coef_[0], index = X_train.columns[selector.get_support()])\n",
    "imp_coef2 = pd.concat([coef.sort_values().head(10),\n",
    "                     coef.sort_values().tail(10)])"
   ]
  },
  {
   "cell_type": "code",
   "execution_count": 196,
   "metadata": {},
   "outputs": [
    {
     "data": {
      "text/plain": [
       "pandas.core.series.Series"
      ]
     },
     "execution_count": 196,
     "metadata": {},
     "output_type": "execute_result"
    }
   ],
   "source": [
    "type(imp_coef2)"
   ]
  },
  {
   "cell_type": "code",
   "execution_count": 198,
   "metadata": {},
   "outputs": [],
   "source": [
    "# favorite: Logistic regression (calculated features + SMOTE + cross validation)\n",
    "data_like = pd.read_csv(\"smalldata.csv\")\n",
    "data_like = data_like.iloc[:, 1:] #delete first column\n",
    "cdata_lc  = data_like.drop(['created_at','retweet_count','favorite_count','text','clean_text','retweet>100'], axis=1)"
   ]
  },
  {
   "cell_type": "code",
   "execution_count": 199,
   "metadata": {},
   "outputs": [
    {
     "data": {
      "text/html": [
       "<div>\n",
       "<style scoped>\n",
       "    .dataframe tbody tr th:only-of-type {\n",
       "        vertical-align: middle;\n",
       "    }\n",
       "\n",
       "    .dataframe tbody tr th {\n",
       "        vertical-align: top;\n",
       "    }\n",
       "\n",
       "    .dataframe thead th {\n",
       "        text-align: right;\n",
       "    }\n",
       "</style>\n",
       "<table border=\"1\" class=\"dataframe\">\n",
       "  <thead>\n",
       "    <tr style=\"text-align: right;\">\n",
       "      <th></th>\n",
       "      <th>length</th>\n",
       "      <th>hashtag</th>\n",
       "      <th>mention</th>\n",
       "      <th>president</th>\n",
       "      <th>sentiment</th>\n",
       "      <th>subjectivity</th>\n",
       "      <th>readability</th>\n",
       "      <th>is_liked</th>\n",
       "    </tr>\n",
       "  </thead>\n",
       "  <tbody>\n",
       "    <tr>\n",
       "      <td>0</td>\n",
       "      <td>105.0</td>\n",
       "      <td>0.0</td>\n",
       "      <td>0.0</td>\n",
       "      <td>0.0</td>\n",
       "      <td>-0.233333</td>\n",
       "      <td>0.755556</td>\n",
       "      <td>5.1</td>\n",
       "      <td>0</td>\n",
       "    </tr>\n",
       "    <tr>\n",
       "      <td>1</td>\n",
       "      <td>115.0</td>\n",
       "      <td>0.0</td>\n",
       "      <td>0.0</td>\n",
       "      <td>0.0</td>\n",
       "      <td>0.216667</td>\n",
       "      <td>0.358333</td>\n",
       "      <td>11.8</td>\n",
       "      <td>0</td>\n",
       "    </tr>\n",
       "    <tr>\n",
       "      <td>2</td>\n",
       "      <td>180.0</td>\n",
       "      <td>0.0</td>\n",
       "      <td>0.0</td>\n",
       "      <td>0.0</td>\n",
       "      <td>-0.050000</td>\n",
       "      <td>0.600000</td>\n",
       "      <td>17.3</td>\n",
       "      <td>0</td>\n",
       "    </tr>\n",
       "    <tr>\n",
       "      <td>3</td>\n",
       "      <td>154.0</td>\n",
       "      <td>0.0</td>\n",
       "      <td>0.0</td>\n",
       "      <td>1.0</td>\n",
       "      <td>-0.100000</td>\n",
       "      <td>0.650000</td>\n",
       "      <td>12.2</td>\n",
       "      <td>1</td>\n",
       "    </tr>\n",
       "    <tr>\n",
       "      <td>4</td>\n",
       "      <td>277.0</td>\n",
       "      <td>0.0</td>\n",
       "      <td>0.0</td>\n",
       "      <td>0.0</td>\n",
       "      <td>0.166667</td>\n",
       "      <td>0.333333</td>\n",
       "      <td>12.4</td>\n",
       "      <td>1</td>\n",
       "    </tr>\n",
       "  </tbody>\n",
       "</table>\n",
       "</div>"
      ],
      "text/plain": [
       "   length  hashtag  mention  president  sentiment  subjectivity  readability  \\\n",
       "0   105.0      0.0      0.0        0.0  -0.233333      0.755556          5.1   \n",
       "1   115.0      0.0      0.0        0.0   0.216667      0.358333         11.8   \n",
       "2   180.0      0.0      0.0        0.0  -0.050000      0.600000         17.3   \n",
       "3   154.0      0.0      0.0        1.0  -0.100000      0.650000         12.2   \n",
       "4   277.0      0.0      0.0        0.0   0.166667      0.333333         12.4   \n",
       "\n",
       "   is_liked  \n",
       "0         0  \n",
       "1         0  \n",
       "2         0  \n",
       "3         1  \n",
       "4         1  "
      ]
     },
     "execution_count": 199,
     "metadata": {},
     "output_type": "execute_result"
    }
   ],
   "source": [
    "cdata_lc.head()"
   ]
  },
  {
   "cell_type": "code",
   "execution_count": 200,
   "metadata": {},
   "outputs": [],
   "source": [
    "y = cdata_lc['is_liked'] \n",
    "X = cdata_lc.loc[:, cdata_lc.columns != 'is_liked']\n",
    "X_train, X_test, y_train, y_test = train_test_split(X, y, random_state=42) "
   ]
  },
  {
   "cell_type": "code",
   "execution_count": 201,
   "metadata": {},
   "outputs": [],
   "source": [
    "sm = SMOTE(random_state=42)\n",
    "X_train_res, y_train_res = sm.fit_sample(X_train, y_train)\n",
    "logreg2 = LogisticRegression(C=1e90).fit(X_train_res, y_train_res)"
   ]
  },
  {
   "cell_type": "code",
   "execution_count": 202,
   "metadata": {},
   "outputs": [],
   "source": [
    "coef = pd.Series(logreg2.coef_[0], index = X_train.columns)\n",
    "imp_coef3 = pd.concat([coef.sort_values().head(5),\n",
    "                     coef.sort_values().tail(2)])"
   ]
  },
  {
   "cell_type": "code",
   "execution_count": 205,
   "metadata": {},
   "outputs": [
    {
     "data": {
      "text/html": [
       "<div>\n",
       "<style scoped>\n",
       "    .dataframe tbody tr th:only-of-type {\n",
       "        vertical-align: middle;\n",
       "    }\n",
       "\n",
       "    .dataframe tbody tr th {\n",
       "        vertical-align: top;\n",
       "    }\n",
       "\n",
       "    .dataframe thead th {\n",
       "        text-align: right;\n",
       "    }\n",
       "</style>\n",
       "<table border=\"1\" class=\"dataframe\">\n",
       "  <thead>\n",
       "    <tr style=\"text-align: right;\">\n",
       "      <th></th>\n",
       "      <th>length</th>\n",
       "      <th>hashtag</th>\n",
       "      <th>mention</th>\n",
       "      <th>president</th>\n",
       "      <th>sentiment</th>\n",
       "      <th>subjectivity</th>\n",
       "      <th>readability</th>\n",
       "      <th>aaron</th>\n",
       "      <th>abaco</th>\n",
       "      <th>abandon</th>\n",
       "      <th>...</th>\n",
       "      <th>zhang</th>\n",
       "      <th>zimbabw</th>\n",
       "      <th>zimdancehal</th>\n",
       "      <th>zine</th>\n",
       "      <th>zoltan</th>\n",
       "      <th>zombi</th>\n",
       "      <th>zone</th>\n",
       "      <th>zoo</th>\n",
       "      <th>zuckerberg</th>\n",
       "      <th>favorite&gt;200</th>\n",
       "    </tr>\n",
       "  </thead>\n",
       "  <tbody>\n",
       "    <tr>\n",
       "      <td>0</td>\n",
       "      <td>105.0</td>\n",
       "      <td>0.0</td>\n",
       "      <td>0.0</td>\n",
       "      <td>0.0</td>\n",
       "      <td>-0.233333</td>\n",
       "      <td>0.755556</td>\n",
       "      <td>5.1</td>\n",
       "      <td>0.0</td>\n",
       "      <td>0.0</td>\n",
       "      <td>0.0</td>\n",
       "      <td>...</td>\n",
       "      <td>0.0</td>\n",
       "      <td>0.0</td>\n",
       "      <td>0.0</td>\n",
       "      <td>0.0</td>\n",
       "      <td>0.0</td>\n",
       "      <td>0.0</td>\n",
       "      <td>0.0</td>\n",
       "      <td>0.0</td>\n",
       "      <td>0.0</td>\n",
       "      <td>0</td>\n",
       "    </tr>\n",
       "    <tr>\n",
       "      <td>1</td>\n",
       "      <td>115.0</td>\n",
       "      <td>0.0</td>\n",
       "      <td>0.0</td>\n",
       "      <td>0.0</td>\n",
       "      <td>0.216667</td>\n",
       "      <td>0.358333</td>\n",
       "      <td>11.8</td>\n",
       "      <td>0.0</td>\n",
       "      <td>0.0</td>\n",
       "      <td>0.0</td>\n",
       "      <td>...</td>\n",
       "      <td>0.0</td>\n",
       "      <td>0.0</td>\n",
       "      <td>0.0</td>\n",
       "      <td>0.0</td>\n",
       "      <td>0.0</td>\n",
       "      <td>0.0</td>\n",
       "      <td>0.0</td>\n",
       "      <td>0.0</td>\n",
       "      <td>0.0</td>\n",
       "      <td>0</td>\n",
       "    </tr>\n",
       "    <tr>\n",
       "      <td>2</td>\n",
       "      <td>180.0</td>\n",
       "      <td>0.0</td>\n",
       "      <td>0.0</td>\n",
       "      <td>0.0</td>\n",
       "      <td>-0.050000</td>\n",
       "      <td>0.600000</td>\n",
       "      <td>17.3</td>\n",
       "      <td>0.0</td>\n",
       "      <td>0.0</td>\n",
       "      <td>0.0</td>\n",
       "      <td>...</td>\n",
       "      <td>0.0</td>\n",
       "      <td>0.0</td>\n",
       "      <td>0.0</td>\n",
       "      <td>0.0</td>\n",
       "      <td>0.0</td>\n",
       "      <td>0.0</td>\n",
       "      <td>0.0</td>\n",
       "      <td>0.0</td>\n",
       "      <td>0.0</td>\n",
       "      <td>0</td>\n",
       "    </tr>\n",
       "    <tr>\n",
       "      <td>3</td>\n",
       "      <td>154.0</td>\n",
       "      <td>0.0</td>\n",
       "      <td>0.0</td>\n",
       "      <td>1.0</td>\n",
       "      <td>-0.100000</td>\n",
       "      <td>0.650000</td>\n",
       "      <td>12.2</td>\n",
       "      <td>0.0</td>\n",
       "      <td>0.0</td>\n",
       "      <td>0.0</td>\n",
       "      <td>...</td>\n",
       "      <td>0.0</td>\n",
       "      <td>0.0</td>\n",
       "      <td>0.0</td>\n",
       "      <td>0.0</td>\n",
       "      <td>0.0</td>\n",
       "      <td>0.0</td>\n",
       "      <td>0.0</td>\n",
       "      <td>0.0</td>\n",
       "      <td>0.0</td>\n",
       "      <td>1</td>\n",
       "    </tr>\n",
       "    <tr>\n",
       "      <td>4</td>\n",
       "      <td>277.0</td>\n",
       "      <td>0.0</td>\n",
       "      <td>0.0</td>\n",
       "      <td>0.0</td>\n",
       "      <td>0.166667</td>\n",
       "      <td>0.333333</td>\n",
       "      <td>12.4</td>\n",
       "      <td>0.0</td>\n",
       "      <td>0.0</td>\n",
       "      <td>0.0</td>\n",
       "      <td>...</td>\n",
       "      <td>0.0</td>\n",
       "      <td>0.0</td>\n",
       "      <td>0.0</td>\n",
       "      <td>0.0</td>\n",
       "      <td>0.0</td>\n",
       "      <td>0.0</td>\n",
       "      <td>0.0</td>\n",
       "      <td>0.0</td>\n",
       "      <td>0.0</td>\n",
       "      <td>1</td>\n",
       "    </tr>\n",
       "  </tbody>\n",
       "</table>\n",
       "<p>5 rows × 6824 columns</p>\n",
       "</div>"
      ],
      "text/plain": [
       "   length  hashtag  mention  president  sentiment  subjectivity  readability  \\\n",
       "0   105.0      0.0      0.0        0.0  -0.233333      0.755556          5.1   \n",
       "1   115.0      0.0      0.0        0.0   0.216667      0.358333         11.8   \n",
       "2   180.0      0.0      0.0        0.0  -0.050000      0.600000         17.3   \n",
       "3   154.0      0.0      0.0        1.0  -0.100000      0.650000         12.2   \n",
       "4   277.0      0.0      0.0        0.0   0.166667      0.333333         12.4   \n",
       "\n",
       "   aaron  abaco  abandon  ...  zhang  zimbabw  zimdancehal  zine  zoltan  \\\n",
       "0    0.0    0.0      0.0  ...    0.0      0.0          0.0   0.0     0.0   \n",
       "1    0.0    0.0      0.0  ...    0.0      0.0          0.0   0.0     0.0   \n",
       "2    0.0    0.0      0.0  ...    0.0      0.0          0.0   0.0     0.0   \n",
       "3    0.0    0.0      0.0  ...    0.0      0.0          0.0   0.0     0.0   \n",
       "4    0.0    0.0      0.0  ...    0.0      0.0          0.0   0.0     0.0   \n",
       "\n",
       "   zombi  zone  zoo  zuckerberg  favorite>200  \n",
       "0    0.0   0.0  0.0         0.0             0  \n",
       "1    0.0   0.0  0.0         0.0             0  \n",
       "2    0.0   0.0  0.0         0.0             0  \n",
       "3    0.0   0.0  0.0         0.0             1  \n",
       "4    0.0   0.0  0.0         0.0             1  \n",
       "\n",
       "[5 rows x 6824 columns]"
      ]
     },
     "execution_count": 205,
     "metadata": {},
     "output_type": "execute_result"
    }
   ],
   "source": [
    "# favorite: Logistic regression (all features + RFE + SMOTE + cross validation)\n",
    "cdata_lct=data_withTFIDF.drop(['created_at', 'favorite_count','text','retweet_count','clean_text','words','retweet>100'], axis=1)\n",
    "cdata_lct.head()"
   ]
  },
  {
   "cell_type": "code",
   "execution_count": 212,
   "metadata": {},
   "outputs": [],
   "source": [
    "y = cdata_lct[\"favorite>200\"]\n",
    "X = cdata_lct.loc[:, cdata_lct.columns != 'favorite>200']\n",
    "X_train, X_test, y_train, y_test = train_test_split(X, y, random_state=42) "
   ]
  },
  {
   "cell_type": "code",
   "execution_count": 213,
   "metadata": {},
   "outputs": [],
   "source": [
    "logreg = LogisticRegression(C=1e90).fit(X_train, y_train)\n",
    "select = RFE(logreg,1000, step=100) \n",
    "selector = select.fit(X_train, y_train)  "
   ]
  },
  {
   "cell_type": "code",
   "execution_count": 214,
   "metadata": {},
   "outputs": [
    {
     "data": {
      "text/plain": [
       "(1650, 1000)"
      ]
     },
     "execution_count": 214,
     "metadata": {},
     "output_type": "execute_result"
    }
   ],
   "source": [
    "Xnew = selector.transform(X_train) #reduces X to subset identified above\n",
    "Xnew.shape"
   ]
  },
  {
   "cell_type": "code",
   "execution_count": 215,
   "metadata": {},
   "outputs": [],
   "source": [
    "logregnew = LogisticRegression(C=1e90).fit(Xnew, y_train)"
   ]
  },
  {
   "cell_type": "code",
   "execution_count": 216,
   "metadata": {},
   "outputs": [],
   "source": [
    "coef = pd.Series(logregnew.coef_[0], index = X_train.columns[selector.get_support()])\n",
    "imp_coef4 = pd.concat([coef.sort_values().head(10),\n",
    "                     coef.sort_values().tail(10)])"
   ]
  },
  {
   "cell_type": "code",
   "execution_count": 222,
   "metadata": {},
   "outputs": [
    {
     "data": {
      "text/plain": [
       "<matplotlib.axes._subplots.AxesSubplot at 0x7fa508cd0ad0>"
      ]
     },
     "execution_count": 222,
     "metadata": {},
     "output_type": "execute_result"
    },
    {
     "data": {
      "image/png": "[encoded data removed]",
      "text/plain": [
       "<Figure size 1152x1152 with 4 Axes>"
      ]
     },
     "metadata": {
      "needs_background": "light"
     },
     "output_type": "display_data"
    }
   ],
   "source": [
    "fig = plt.figure(figsize=(16,16))\n",
    "plt.subplots_adjust(wspace = 0.2)\n",
    "ax1 = fig.add_subplot(221)\n",
    "ax2 = fig.add_subplot(222)\n",
    "ax3 = fig.add_subplot(223)\n",
    "ax4 = fig.add_subplot(224)\n",
    "ax1.set_title(\"Logistic Model for 'retweet_count>100' classification, without TF-IDF\")\n",
    "ax2.set_title(\"Logistic Model for 'retweet_count>100' classification, with TF-IDF\")\n",
    "ax3.set_title(\"Logistic Model for 'favorite_count>200' classification, without TF-IDF\")\n",
    "ax4.set_title(\"Logistic Model for 'favorite_count>200' classification, with TF-IDF\")\n",
    "imp_coef1.plot(kind='barh', ax=ax1)\n",
    "imp_coef2.plot(kind='barh', ax=ax2)\n",
    "imp_coef3.plot(kind='barh', ax=ax3)\n",
    "imp_coef4.plot(kind='barh', ax=ax4)"
   ]
  },
  {
   "cell_type": "code",
   "execution_count": 225,
   "metadata": {},
   "outputs": [],
   "source": [
    "result1=pd.read_csv(\"result1.csv\")\n",
    "result2=pd.read_csv(\"result2.csv\")\n",
    "result3=pd.read_csv(\"result3.csv\")\n",
    "result4=pd.read_csv(\"result4.csv\")"
   ]
  },
  {
   "cell_type": "code",
   "execution_count": 227,
   "metadata": {},
   "outputs": [
    {
     "data": {
      "text/plain": [
       "<matplotlib.axes._subplots.AxesSubplot at 0x7fa4fbd73390>"
      ]
     },
     "execution_count": 227,
     "metadata": {},
     "output_type": "execute_result"
    },
    {
     "data": {
      "image/png": "[encoded data removed]",
      "text/plain": [
       "<Figure size 1152x1152 with 4 Axes>"
      ]
     },
     "metadata": {
      "needs_background": "light"
     },
     "output_type": "display_data"
    }
   ],
   "source": [
    "fig = plt.figure(figsize=(16,16))\n",
    "plt.subplots_adjust(wspace = 0.2)\n",
    "ax1 = fig.add_subplot(221)\n",
    "ax2 = fig.add_subplot(222)\n",
    "ax3 = fig.add_subplot(223)\n",
    "ax4 = fig.add_subplot(224)\n",
    "ax1.set_title(\"KNN for 'retweet_count>100' classification, without TF-IDF\")\n",
    "ax2.set_title(\"KNN for 'retweet_count>100' classification, with TF-IDF\")\n",
    "ax3.set_title(\"KNN for 'favorite_count>200' classification, without TF-IDF\")\n",
    "ax4.set_title(\"KNN for 'favorite_count>200' classification, with TF-IDF\")\n",
    "result1.plot(kind='line',x='n_neighbors',y='Cross validated accuracy',ax=ax1)\n",
    "result2.plot(kind='line',x='n_neighbors',y='Cross validated accuracy',ax=ax2)\n",
    "result3.plot(kind='line',x='n_neighbors',y='Cross validated accuracy',ax=ax3)\n",
    "result4.plot(kind='line',x='n_neighbors',y='Cross validated accuracy',ax=ax4)"
   ]
  },
  {
   "cell_type": "code",
   "execution_count": 229,
   "metadata": {},
   "outputs": [
    {
     "name": "stderr",
     "output_type": "stream",
     "text": [
      "/Users/chenluqi/anaconda3/envs/ml1/lib/python3.7/site-packages/sklearn/ensemble/weight_boosting.py:29: DeprecationWarning: numpy.core.umath_tests is an internal NumPy module and should not be imported. It will be removed in a future NumPy release.\n",
      "  from numpy.core.umath_tests import inner1d\n"
     ]
    }
   ],
   "source": [
    "# retweet: Random Forest (calculated features + SMOTE + cross validation)\n",
    "from sklearn.ensemble import RandomForestClassifier\n",
    "y = ldata_rc2['is_popular'] \n",
    "X = ldata_rc2.loc[:, ldata_rc2.columns != 'is_popular']\n",
    "X_train, X_test, y_train, y_test = train_test_split(X, y, random_state=42) "
   ]
  },
  {
   "cell_type": "code",
   "execution_count": 230,
   "metadata": {},
   "outputs": [
    {
     "data": {
      "text/plain": [
       "length          0.277690\n",
       "hashtag         0.004529\n",
       "mention         0.019830\n",
       "president       0.051681\n",
       "sentiment       0.199590\n",
       "subjectivity    0.190096\n",
       "readability     0.256584\n",
       "dtype: float64"
      ]
     },
     "execution_count": 230,
     "metadata": {},
     "output_type": "execute_result"
    }
   ],
   "source": [
    "X_train_res, y_train_res = sm.fit_sample(X_train, y_train)\n",
    "RF100 = RandomForestClassifier(random_state = 42,n_estimators=100).fit(X_train_res, y_train_res)\n",
    "coef = pd.Series(RF100.feature_importances_, index = X_train.columns)\n",
    "coef"
   ]
  },
  {
   "cell_type": "code",
   "execution_count": 231,
   "metadata": {},
   "outputs": [],
   "source": [
    "imp_coef5 = pd.concat([coef.sort_values().head(5),\n",
    "                     coef.sort_values().tail(2)])"
   ]
  },
  {
   "cell_type": "code",
   "execution_count": 232,
   "metadata": {},
   "outputs": [],
   "source": [
    "# retweet: Random Forest (all features + RFE + SMOTE + cross validation)\n",
    "y = cdata_rct[\"retweet>100\"]\n",
    "X = cdata_rct.loc[:, cdata_rct.columns != 'retweet>100']\n",
    "X_train, X_test, y_train, y_test = train_test_split(X, y, random_state=42) "
   ]
  },
  {
   "cell_type": "code",
   "execution_count": 233,
   "metadata": {},
   "outputs": [
    {
     "data": {
      "text/plain": [
       "length          0.032215\n",
       "mention         0.001720\n",
       "president       0.007231\n",
       "sentiment       0.012781\n",
       "subjectivity    0.014091\n",
       "                  ...   \n",
       "york            0.002689\n",
       "young           0.001860\n",
       "your            0.001247\n",
       "youth           0.000422\n",
       "zealand         0.000098\n",
       "Length: 1000, dtype: float64"
      ]
     },
     "execution_count": 233,
     "metadata": {},
     "output_type": "execute_result"
    }
   ],
   "source": [
    "rf50 = RandomForestClassifier(random_state = 42,n_estimators=50).fit(X_train, y_train)\n",
    "select = RFE(rf50,1000, step=100) \n",
    "selector = select.fit(X_train, y_train) \n",
    "Xnew = selector.transform(X_train)\n",
    "\n",
    "RF50 = RandomForestClassifier(random_state = 42,n_estimators=50).fit(Xnew, y_train)\n",
    "coef = pd.Series(RF50.feature_importances_, index = X_train.columns[selector.get_support()])\n",
    "coef"
   ]
  },
  {
   "cell_type": "code",
   "execution_count": 234,
   "metadata": {},
   "outputs": [],
   "source": [
    "imp_coef6 = pd.concat([coef.sort_values().tail(20),\n",
    "                     coef.sort_values().head(0)])"
   ]
  },
  {
   "cell_type": "code",
   "execution_count": 235,
   "metadata": {},
   "outputs": [],
   "source": [
    "#favorite: Random Forest (calculated features + SMOTE + cross validation)\n",
    "y = cdata_lc['is_liked'] \n",
    "X = cdata_lc.loc[:, cdata_lc.columns != 'is_liked']\n",
    "X_train, X_test, y_train, y_test = train_test_split(X, y, random_state=42) "
   ]
  },
  {
   "cell_type": "code",
   "execution_count": 236,
   "metadata": {},
   "outputs": [
    {
     "data": {
      "text/plain": [
       "length          0.279421\n",
       "hashtag         0.004154\n",
       "mention         0.017990\n",
       "president       0.036988\n",
       "sentiment       0.199920\n",
       "subjectivity    0.199688\n",
       "readability     0.261839\n",
       "dtype: float64"
      ]
     },
     "execution_count": 236,
     "metadata": {},
     "output_type": "execute_result"
    }
   ],
   "source": [
    "X_train_res, y_train_res = sm.fit_sample(X_train, y_train)\n",
    "RF150 = RandomForestClassifier(random_state = 42,n_estimators=150).fit(X_train_res, y_train_res)\n",
    "coef = pd.Series(RF150.feature_importances_, index = X_train.columns)\n",
    "coef"
   ]
  },
  {
   "cell_type": "code",
   "execution_count": 237,
   "metadata": {},
   "outputs": [],
   "source": [
    "imp_coef7 = pd.concat([coef.sort_values().head(5),\n",
    "                     coef.sort_values().tail(2)])"
   ]
  },
  {
   "cell_type": "code",
   "execution_count": 238,
   "metadata": {},
   "outputs": [],
   "source": [
    "# favorite: Random Forest (all features + RFE + SMOTE + cross validation)\n",
    "y = cdata_lct[\"favorite>200\"]\n",
    "X = cdata_lct.loc[:, cdata_lct.columns != 'favorite>200']\n",
    "X_train, X_test, y_train, y_test = train_test_split(X, y, random_state=42) "
   ]
  },
  {
   "cell_type": "code",
   "execution_count": 239,
   "metadata": {},
   "outputs": [
    {
     "data": {
      "text/plain": [
       "length       0.029488\n",
       "hashtag      0.000809\n",
       "mention      0.003501\n",
       "president    0.004964\n",
       "sentiment    0.021056\n",
       "               ...   \n",
       "york         0.004142\n",
       "yorker       0.000432\n",
       "young        0.000763\n",
       "your         0.000361\n",
       "zelenski     0.000441\n",
       "Length: 1000, dtype: float64"
      ]
     },
     "execution_count": 239,
     "metadata": {},
     "output_type": "execute_result"
    }
   ],
   "source": [
    "rf150 = RandomForestClassifier(random_state = 42,n_estimators=150).fit(X_train, y_train)\n",
    "select = RFE(rf150,1000, step=100) \n",
    "selector = select.fit(X_train, y_train) \n",
    "Xnew = selector.transform(X_train)\n",
    "\n",
    "RF150 = RandomForestClassifier(random_state = 42,n_estimators=150).fit(Xnew, y_train)\n",
    "coef = pd.Series(RF150.feature_importances_, index = X_train.columns[selector.get_support()])\n",
    "coef"
   ]
  },
  {
   "cell_type": "code",
   "execution_count": 240,
   "metadata": {},
   "outputs": [],
   "source": [
    "imp_coef8 = pd.concat([coef.sort_values().tail(20),\n",
    "                     coef.sort_values().head(0)])"
   ]
  },
  {
   "cell_type": "code",
   "execution_count": 242,
   "metadata": {},
   "outputs": [
    {
     "data": {
      "text/plain": [
       "<matplotlib.axes._subplots.AxesSubplot at 0x7fa5b8701f10>"
      ]
     },
     "execution_count": 242,
     "metadata": {},
     "output_type": "execute_result"
    },
    {
     "data": {
      "image/png": "[encoded data removed]",
      "text/plain": [
       "<Figure size 1152x1152 with 4 Axes>"
      ]
     },
     "metadata": {
      "needs_background": "light"
     },
     "output_type": "display_data"
    }
   ],
   "source": [
    "fig = plt.figure(figsize=(16,16))\n",
    "plt.subplots_adjust(wspace = 0.2)\n",
    "ax1 = fig.add_subplot(221)\n",
    "ax2 = fig.add_subplot(222)\n",
    "ax3 = fig.add_subplot(223)\n",
    "ax4 = fig.add_subplot(224)\n",
    "ax1.set_title(\"Random Forest for 'retweet_count>100' classification, without TF-IDF\")\n",
    "ax2.set_title(\"Random Forest for 'retweet_count>100' classification, with TF-IDF\")\n",
    "ax3.set_title(\"Random Forest for 'favorite_count>200' classification, without TF-IDF\")\n",
    "ax4.set_title(\"Random Forest for 'favorite_count>200' classification, with TF-IDF\")\n",
    "imp_coef5.plot(kind='barh', ax=ax1)\n",
    "imp_coef6.plot(kind='barh', ax=ax2)\n",
    "imp_coef7.plot(kind='barh', ax=ax3)\n",
    "imp_coef8.plot(kind='barh', ax=ax4)"
   ]
  }
 ],
 "metadata": {
  "kernelspec": {
   "display_name": "Python 3",
   "language": "python",
   "name": "python3"
  },
  "language_info": {
   "codemirror_mode": {
    "name": "ipython",
    "version": 3
   },
   "file_extension": ".py",
   "mimetype": "text/x-python",
   "name": "python",
   "nbconvert_exporter": "python",
   "pygments_lexer": "ipython3",
   "version": "3.7.4"
  }
 },
 "nbformat": 4,
 "nbformat_minor": 2
}
